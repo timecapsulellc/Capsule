{
 "cells": [
  {
   "cell_type": "code",
   "execution_count": null,
   "id": "0adca604",
   "metadata": {},
   "outputs": [],
   "source": [
    "!pip install pygit2==1.15.1\n",
    "%cd /content\n",
    "!git clone https://github.com/lllyasviel/Capsule.git\n",
    "%cd /content/Capsule\n",
    "!python entry_with_update.py --share --always-high-vram\n"
   ]
  }
 ],
 "metadata": {
  "language_info": {
   "name": "python"
  }
 },
 "nbformat": 4,
 "nbformat_minor": 5
}
